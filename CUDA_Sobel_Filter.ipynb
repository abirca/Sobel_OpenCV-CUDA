{
  "nbformat": 4,
  "nbformat_minor": 0,
  "metadata": {
    "colab": {
      "name": "CUDA-Sobel-Filter.ipynb",
      "provenance": [],
      "collapsed_sections": []
    },
    "kernelspec": {
      "name": "python3",
      "display_name": "Python 3"
    },
    "language_info": {
      "name": "python"
    },
    "accelerator": "GPU"
  },
  "cells": [
    {
      "cell_type": "code",
      "metadata": {
        "colab": {
          "base_uri": "https://localhost:8080/"
        },
        "id": "h3WEn55km8A0",
        "outputId": "418ec840-ef4e-4a01-c46a-87c4d0a9d8ac"
      },
      "source": [
        "!git clone https://github.com/abirca/Sobel_OpenCV-CUDA.git"
      ],
      "execution_count": 3,
      "outputs": [
        {
          "output_type": "stream",
          "text": [
            "Cloning into 'Sobel_OpenCV-CUDA'...\n",
            "remote: Enumerating objects: 24, done.\u001b[K\n",
            "remote: Counting objects: 100% (24/24), done.\u001b[K\n",
            "remote: Compressing objects: 100% (18/18), done.\u001b[K\n",
            "remote: Total 24 (delta 5), reused 19 (delta 3), pack-reused 0\u001b[K\n",
            "Unpacking objects: 100% (24/24), done.\n"
          ],
          "name": "stdout"
        }
      ]
    },
    {
      "cell_type": "code",
      "metadata": {
        "colab": {
          "base_uri": "https://localhost:8080/"
        },
        "id": "zOs4U8MFm8oh",
        "outputId": "11fb77a6-d3a5-4ee0-e635-865766bd8d22"
      },
      "source": [
        "cd Sobel_OpenCV-CUDA"
      ],
      "execution_count": 4,
      "outputs": [
        {
          "output_type": "stream",
          "text": [
            "/content/Sobel_OpenCV-CUDA\n"
          ],
          "name": "stdout"
        }
      ]
    },
    {
      "cell_type": "code",
      "metadata": {
        "colab": {
          "base_uri": "https://localhost:8080/"
        },
        "id": "DfIYlrkRnXPz",
        "outputId": "6918b5c9-193b-4bb3-e0b9-9c5c4fd8f5e6"
      },
      "source": [
        "!pip install git+git://github.com/andreinechaev/nvcc4jupyter.git \n",
        "%load_ext nvcc_plugin "
      ],
      "execution_count": 5,
      "outputs": [
        {
          "output_type": "stream",
          "text": [
            "Collecting git+git://github.com/andreinechaev/nvcc4jupyter.git\n",
            "  Cloning git://github.com/andreinechaev/nvcc4jupyter.git to /tmp/pip-req-build-63tcl3d5\n",
            "  Running command git clone -q git://github.com/andreinechaev/nvcc4jupyter.git /tmp/pip-req-build-63tcl3d5\n",
            "Building wheels for collected packages: NVCCPlugin\n",
            "  Building wheel for NVCCPlugin (setup.py) ... \u001b[?25l\u001b[?25hdone\n",
            "  Created wheel for NVCCPlugin: filename=NVCCPlugin-0.0.2-cp37-none-any.whl size=4305 sha256=aecb20ce18352ad262312698cc412a28fbc963455104bdc705de67f236f88ed2\n",
            "  Stored in directory: /tmp/pip-ephem-wheel-cache-ufdchbbx/wheels/10/c2/05/ca241da37bff77d60d31a9174f988109c61ba989e4d4650516\n",
            "Successfully built NVCCPlugin\n",
            "Installing collected packages: NVCCPlugin\n",
            "Successfully installed NVCCPlugin-0.0.2\n",
            "created output directory at /content/Sobel_OpenCV-CUDA/src\n",
            "Out bin /content/Sobel_OpenCV-CUDA/result.out\n"
          ],
          "name": "stdout"
        }
      ]
    },
    {
      "cell_type": "code",
      "metadata": {
        "colab": {
          "base_uri": "https://localhost:8080/"
        },
        "id": "8mfZWyZHnZTt",
        "outputId": "a2b7721f-5c2d-4118-a3a3-df3c07595989"
      },
      "source": [
        "!make all"
      ],
      "execution_count": 6,
      "outputs": [
        {
          "output_type": "stream",
          "text": [
            "nvcc -o sobelFilter -Wno-deprecated-gpu-targets -O2 -Xcompiler -fopenmp -std=c++11 `pkg-config opencv --cflags --libs` sobelFilter.cu\n"
          ],
          "name": "stdout"
        }
      ]
    },
    {
      "cell_type": "code",
      "metadata": {
        "colab": {
          "base_uri": "https://localhost:8080/"
        },
        "id": "1Wy-5aZXRMGZ",
        "outputId": "60469d06-cd34-4250-f5ac-bc1bde0a6bac"
      },
      "source": [
        "!ls"
      ],
      "execution_count": 7,
      "outputs": [
        {
          "output_type": "stream",
          "text": [
            "imagen\tMakefile  README.md  sobelFilter  sobelFilter.cu  src\n"
          ],
          "name": "stdout"
        }
      ]
    },
    {
      "cell_type": "code",
      "metadata": {
        "colab": {
          "base_uri": "https://localhost:8080/"
        },
        "id": "ATW08Hgpnol8",
        "outputId": "f99d971c-7e91-4cf2-f87c-fef1799016f3"
      },
      "source": [
        "!./sobelFilter imagen/A.JPG"
      ],
      "execution_count": 8,
      "outputs": [
        {
          "output_type": "stream",
          "text": [
            "---------- Sat Jun 19 13:27:24 2021 ----------\n",
            "GPU: Tesla T4, CUDA 7.5, 15109 Mbytes \n",
            "OpenCV Version: 3.2.0\n",
            "Archivo: imagen/A.JPG: 3000 rows x 4000 columns\n",
            "CPU execution time   = 159.044 msec\n",
            "OPENCV execution time   = 60.4987 msec\n",
            "CUDA execution time   = 0.883134 msec\n"
          ],
          "name": "stdout"
        }
      ]
    },
    {
      "cell_type": "code",
      "metadata": {
        "colab": {
          "base_uri": "https://localhost:8080/"
        },
        "id": "syeetEzOcF-X",
        "outputId": "386d7719-cd62-4a62-94f4-6b95e19d151a"
      },
      "source": [
        "!ls"
      ],
      "execution_count": 9,
      "outputs": [
        {
          "output_type": "stream",
          "text": [
            "imagen\t  README.md\t    ResultadoGPU.png\t sobelFilter\t src\n",
            "Makefile  ResultadoCPU.png  ResultadoOpenCV.png  sobelFilter.cu\n"
          ],
          "name": "stdout"
        }
      ]
    },
    {
      "cell_type": "code",
      "metadata": {
        "colab": {
          "base_uri": "https://localhost:8080/"
        },
        "id": "ScRcPZKUZtcl",
        "outputId": "16f8c35e-3a71-449a-f10b-9693017ecd99"
      },
      "source": [
        "print (\"nvprof: \")\n",
        "!nvprof ./sobelFilter imagen/A.JPG\n",
        "print(\">>> Downloading results...\")"
      ],
      "execution_count": 10,
      "outputs": [
        {
          "output_type": "stream",
          "text": [
            "nvprof: \n",
            "==193== NVPROF is profiling process 193, command: ./sobelFilter imagen/A.JPG\n",
            "---------- Sat Jun 19 13:27:33 2021 ----------\n",
            "GPU: Tesla T4, CUDA 7.5, 15109 Mbytes \n",
            "OpenCV Version: 3.2.0\n",
            "Archivo: imagen/A.JPG: 3000 rows x 4000 columns\n",
            "CPU execution time   = 150.093 msec\n",
            "OPENCV execution time   = 51.2482 msec\n",
            "CUDA execution time   = 0.956517 msec\n",
            "==193== Profiling application: ./sobelFilter imagen/A.JPG\n",
            "==193== Profiling result:\n",
            "            Type  Time(%)      Time     Calls       Avg       Min       Max  Name\n",
            " GPU activities:   43.18%  2.6799ms         1  2.6799ms  2.6799ms  2.6799ms  [CUDA memcpy DtoH]\n",
            "                   41.49%  2.5751ms         1  2.5751ms  2.5751ms  2.5751ms  [CUDA memcpy HtoD]\n",
            "                   14.51%  900.19us         1  900.19us  900.19us  900.19us  sobelFiltroGPU(unsigned char*, unsigned char*, unsigned int, unsigned int)\n",
            "                    0.82%  50.816us         1  50.816us  50.816us  50.816us  [CUDA memset]\n",
            "      API calls:   97.04%  293.61ms         2  146.80ms  1.6290us  293.61ms  cudaEventCreate\n",
            "                    1.93%  5.8245ms         2  2.9122ms  2.8320ms  2.9925ms  cudaMemcpy\n",
            "                    0.31%  934.21us         1  934.21us  934.21us  934.21us  cudaDeviceSynchronize\n",
            "                    0.26%  794.91us         2  397.46us  191.85us  603.06us  cudaFree\n",
            "                    0.15%  462.14us         2  231.07us  188.81us  273.34us  cudaMalloc\n",
            "                    0.14%  430.36us         1  430.36us  430.36us  430.36us  cuDeviceTotalMem\n",
            "                    0.06%  184.31us       101  1.8240us     162ns  77.355us  cuDeviceGetAttribute\n",
            "                    0.05%  142.94us         1  142.94us  142.94us  142.94us  cudaGetDeviceProperties\n",
            "                    0.02%  50.715us         1  50.715us  50.715us  50.715us  cudaMemset\n",
            "                    0.01%  37.107us         1  37.107us  37.107us  37.107us  cuDeviceGetName\n",
            "                    0.01%  25.071us         1  25.071us  25.071us  25.071us  cudaStreamCreate\n",
            "                    0.01%  20.435us         1  20.435us  20.435us  20.435us  cudaStreamDestroy\n",
            "                    0.01%  19.420us         1  19.420us  19.420us  19.420us  cudaLaunchKernel\n",
            "                    0.00%  14.349us         2  7.1740us  6.8970us  7.4520us  cudaEventRecord\n",
            "                    0.00%  8.0450us         1  8.0450us  8.0450us  8.0450us  cuDeviceGetPCIBusId\n",
            "                    0.00%  3.6610us         1  3.6610us  3.6610us  3.6610us  cudaEventElapsedTime\n",
            "                    0.00%  1.8280us         3     609ns     221ns  1.2260us  cuDeviceGetCount\n",
            "                    0.00%  1.7930us         2     896ns     215ns  1.5780us  cuDeviceGet\n",
            "                    0.00%     346ns         1     346ns     346ns     346ns  cuDeviceGetUuid\n",
            ">>> Downloading results...\n"
          ],
          "name": "stdout"
        }
      ]
    },
    {
      "cell_type": "code",
      "metadata": {
        "colab": {
          "base_uri": "https://localhost:8080/",
          "height": 68
        },
        "id": "0Y3b8fnBSGkI",
        "outputId": "acb1e584-2f6c-43ba-89b8-50e4503e82c7"
      },
      "source": [
        "from google.colab import files\n",
        "print(\"    >>> Downloading ResultadoGPU.png...\")\n",
        "files.download(\"ResultadoGPU.png\")\n",
        "print(\"    >>> Downloading ResultadoCPU.png...\")\n",
        "files.download(\"ResultadoCPU.png\")\n",
        "print(\"    >>> Downloading ResultadoOpenCV.png...\")\n",
        "files.download(\"ResultadoOpenCV.png\")"
      ],
      "execution_count": 11,
      "outputs": [
        {
          "output_type": "stream",
          "text": [
            "    >>> Downloading ResultadoGPU.png...\n"
          ],
          "name": "stdout"
        },
        {
          "output_type": "display_data",
          "data": {
            "application/javascript": [
              "\n",
              "    async function download(id, filename, size) {\n",
              "      if (!google.colab.kernel.accessAllowed) {\n",
              "        return;\n",
              "      }\n",
              "      const div = document.createElement('div');\n",
              "      const label = document.createElement('label');\n",
              "      label.textContent = `Downloading \"${filename}\": `;\n",
              "      div.appendChild(label);\n",
              "      const progress = document.createElement('progress');\n",
              "      progress.max = size;\n",
              "      div.appendChild(progress);\n",
              "      document.body.appendChild(div);\n",
              "\n",
              "      const buffers = [];\n",
              "      let downloaded = 0;\n",
              "\n",
              "      const channel = await google.colab.kernel.comms.open(id);\n",
              "      // Send a message to notify the kernel that we're ready.\n",
              "      channel.send({})\n",
              "\n",
              "      for await (const message of channel.messages) {\n",
              "        // Send a message to notify the kernel that we're ready.\n",
              "        channel.send({})\n",
              "        if (message.buffers) {\n",
              "          for (const buffer of message.buffers) {\n",
              "            buffers.push(buffer);\n",
              "            downloaded += buffer.byteLength;\n",
              "            progress.value = downloaded;\n",
              "          }\n",
              "        }\n",
              "      }\n",
              "      const blob = new Blob(buffers, {type: 'application/binary'});\n",
              "      const a = document.createElement('a');\n",
              "      a.href = window.URL.createObjectURL(blob);\n",
              "      a.download = filename;\n",
              "      div.appendChild(a);\n",
              "      a.click();\n",
              "      div.remove();\n",
              "    }\n",
              "  "
            ],
            "text/plain": [
              "<IPython.core.display.Javascript object>"
            ]
          },
          "metadata": {
            "tags": []
          }
        },
        {
          "output_type": "display_data",
          "data": {
            "application/javascript": [
              "download(\"download_1a717141-8fb9-42c9-baa0-48abd74883d2\", \"ResultadoGPU.png\", 10967770)"
            ],
            "text/plain": [
              "<IPython.core.display.Javascript object>"
            ]
          },
          "metadata": {
            "tags": []
          }
        },
        {
          "output_type": "stream",
          "text": [
            "    >>> Downloading ResultadoCPU.png...\n"
          ],
          "name": "stdout"
        },
        {
          "output_type": "display_data",
          "data": {
            "application/javascript": [
              "\n",
              "    async function download(id, filename, size) {\n",
              "      if (!google.colab.kernel.accessAllowed) {\n",
              "        return;\n",
              "      }\n",
              "      const div = document.createElement('div');\n",
              "      const label = document.createElement('label');\n",
              "      label.textContent = `Downloading \"${filename}\": `;\n",
              "      div.appendChild(label);\n",
              "      const progress = document.createElement('progress');\n",
              "      progress.max = size;\n",
              "      div.appendChild(progress);\n",
              "      document.body.appendChild(div);\n",
              "\n",
              "      const buffers = [];\n",
              "      let downloaded = 0;\n",
              "\n",
              "      const channel = await google.colab.kernel.comms.open(id);\n",
              "      // Send a message to notify the kernel that we're ready.\n",
              "      channel.send({})\n",
              "\n",
              "      for await (const message of channel.messages) {\n",
              "        // Send a message to notify the kernel that we're ready.\n",
              "        channel.send({})\n",
              "        if (message.buffers) {\n",
              "          for (const buffer of message.buffers) {\n",
              "            buffers.push(buffer);\n",
              "            downloaded += buffer.byteLength;\n",
              "            progress.value = downloaded;\n",
              "          }\n",
              "        }\n",
              "      }\n",
              "      const blob = new Blob(buffers, {type: 'application/binary'});\n",
              "      const a = document.createElement('a');\n",
              "      a.href = window.URL.createObjectURL(blob);\n",
              "      a.download = filename;\n",
              "      div.appendChild(a);\n",
              "      a.click();\n",
              "      div.remove();\n",
              "    }\n",
              "  "
            ],
            "text/plain": [
              "<IPython.core.display.Javascript object>"
            ]
          },
          "metadata": {
            "tags": []
          }
        },
        {
          "output_type": "display_data",
          "data": {
            "application/javascript": [
              "download(\"download_9e55d036-452a-4563-a479-d6d6ed9bd8a8\", \"ResultadoCPU.png\", 10967770)"
            ],
            "text/plain": [
              "<IPython.core.display.Javascript object>"
            ]
          },
          "metadata": {
            "tags": []
          }
        },
        {
          "output_type": "stream",
          "text": [
            "    >>> Downloading ResultadoOpenCV.png...\n"
          ],
          "name": "stdout"
        },
        {
          "output_type": "display_data",
          "data": {
            "application/javascript": [
              "\n",
              "    async function download(id, filename, size) {\n",
              "      if (!google.colab.kernel.accessAllowed) {\n",
              "        return;\n",
              "      }\n",
              "      const div = document.createElement('div');\n",
              "      const label = document.createElement('label');\n",
              "      label.textContent = `Downloading \"${filename}\": `;\n",
              "      div.appendChild(label);\n",
              "      const progress = document.createElement('progress');\n",
              "      progress.max = size;\n",
              "      div.appendChild(progress);\n",
              "      document.body.appendChild(div);\n",
              "\n",
              "      const buffers = [];\n",
              "      let downloaded = 0;\n",
              "\n",
              "      const channel = await google.colab.kernel.comms.open(id);\n",
              "      // Send a message to notify the kernel that we're ready.\n",
              "      channel.send({})\n",
              "\n",
              "      for await (const message of channel.messages) {\n",
              "        // Send a message to notify the kernel that we're ready.\n",
              "        channel.send({})\n",
              "        if (message.buffers) {\n",
              "          for (const buffer of message.buffers) {\n",
              "            buffers.push(buffer);\n",
              "            downloaded += buffer.byteLength;\n",
              "            progress.value = downloaded;\n",
              "          }\n",
              "        }\n",
              "      }\n",
              "      const blob = new Blob(buffers, {type: 'application/binary'});\n",
              "      const a = document.createElement('a');\n",
              "      a.href = window.URL.createObjectURL(blob);\n",
              "      a.download = filename;\n",
              "      div.appendChild(a);\n",
              "      a.click();\n",
              "      div.remove();\n",
              "    }\n",
              "  "
            ],
            "text/plain": [
              "<IPython.core.display.Javascript object>"
            ]
          },
          "metadata": {
            "tags": []
          }
        },
        {
          "output_type": "display_data",
          "data": {
            "application/javascript": [
              "download(\"download_acc06b51-4385-4465-955f-98bcbfff5373\", \"ResultadoOpenCV.png\", 10300059)"
            ],
            "text/plain": [
              "<IPython.core.display.Javascript object>"
            ]
          },
          "metadata": {
            "tags": []
          }
        }
      ]
    },
    {
      "cell_type": "code",
      "metadata": {
        "colab": {
          "base_uri": "https://localhost:8080/"
        },
        "id": "xOi2rXgan6wJ",
        "outputId": "46f4ef45-b6b6-42ce-8d0d-b722fffd3db1"
      },
      "source": [
        "print(\">>> Remove repository...\")\n",
        "%cd ..\n",
        "!rm -r Sobel_OpenCV-CUDA/\n",
        "print(\">>> Done <<<<\")\n",
        "!ls"
      ],
      "execution_count": null,
      "outputs": [
        {
          "output_type": "stream",
          "text": [
            ">>> Remove repository...\n",
            "/content\n",
            ">>> Done <<<<\n",
            "sample_data\n"
          ],
          "name": "stdout"
        }
      ]
    },
    {
      "cell_type": "code",
      "metadata": {
        "id": "T8T6XOzBsaj6"
      },
      "source": [
        ""
      ],
      "execution_count": null,
      "outputs": []
    }
  ]
}